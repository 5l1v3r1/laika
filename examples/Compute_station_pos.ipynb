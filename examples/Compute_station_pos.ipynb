{
 "cells": [
  {
   "cell_type": "code",
   "execution_count": 1,
   "metadata": {},
   "outputs": [
    {
     "name": "stdout",
     "output_type": "stream",
     "text": [
      "Populating the interactive namespace from numpy and matplotlib\n"
     ]
    }
   ],
   "source": [
    "%pylab inline\n",
    "import numpy as np\n",
    "import seaborn as sns\n",
    "from tqdm import tqdm\n",
    "from laika.lib.coordinates import LocalCoord, ecef2geodetic\n"
   ]
  },
  {
   "cell_type": "code",
   "execution_count": 2,
   "metadata": {},
   "outputs": [],
   "source": [
    "# A practical way to confirm the accuracy of laika's processing\n",
    "# is by downloading some observation data from a CORS station\n",
    "# and confirming our position estimate to the known position\n",
    "# of the station.\n",
    "\n",
    "\n",
    "# We begin by initializing an AstroDog\n",
    "from laika import AstroDog\n",
    "dog = AstroDog()"
   ]
  },
  {
   "cell_type": "code",
   "execution_count": 5,
   "metadata": {},
   "outputs": [
    {
     "name": "stdout",
     "output_type": "stream",
     "text": [
      "/tmp/gnss/\n",
      "pulling from http://ftpcache.comma.life/geodesy-noaa-gov/cors/rinex/2018/007/slac/slac0070.18o.gz to /tmp/gnss/cors_obs/2018/007/slac/slac0070.18o\n"
     ]
    },
    {
     "ename": "ImportError",
     "evalue": "No module named gnss.gps_time",
     "output_type": "error",
     "traceback": [
      "\u001b[0;31m---------------------------------------------------------------------------\u001b[0m",
      "\u001b[0;31mImportError\u001b[0m                               Traceback (most recent call last)",
      "\u001b[0;32m<ipython-input-5-d0020a75a010>\u001b[0m in \u001b[0;36m<module>\u001b[0;34m()\u001b[0m\n\u001b[1;32m     13\u001b[0m \u001b[0mslac_rinex_obs_file\u001b[0m \u001b[0;34m=\u001b[0m \u001b[0mdownload_cors_station\u001b[0m\u001b[0;34m(\u001b[0m\u001b[0mtime\u001b[0m\u001b[0;34m,\u001b[0m \u001b[0mstation_name\u001b[0m\u001b[0;34m,\u001b[0m \u001b[0mdog\u001b[0m\u001b[0;34m.\u001b[0m\u001b[0mcache_dir\u001b[0m\u001b[0;34m)\u001b[0m\u001b[0;34m\u001b[0m\u001b[0m\n\u001b[1;32m     14\u001b[0m \u001b[0mobs_data\u001b[0m \u001b[0;34m=\u001b[0m \u001b[0mRINEXFile\u001b[0m\u001b[0;34m(\u001b[0m\u001b[0mslac_rinex_obs_file\u001b[0m\u001b[0;34m)\u001b[0m\u001b[0;34m\u001b[0m\u001b[0m\n\u001b[0;32m---> 15\u001b[0;31m \u001b[0mslac_exact_postition\u001b[0m \u001b[0;34m=\u001b[0m \u001b[0mget_station_position\u001b[0m\u001b[0;34m(\u001b[0m\u001b[0;34m'slac'\u001b[0m\u001b[0;34m)\u001b[0m\u001b[0;34m\u001b[0m\u001b[0m\n\u001b[0m",
      "\u001b[0;32m/home/batman/one/laika/venv/lib/python2.7/site-packages/laika-0.0.1-py2.7.egg/laika/dgps.pyc\u001b[0m in \u001b[0;36mget_station_position\u001b[0;34m(station_id, cache_dir, time)\u001b[0m\n\u001b[1;32m     72\u001b[0m   \u001b[0mdownload_and_parse_station_postions\u001b[0m\u001b[0;34m(\u001b[0m\u001b[0mcors_station_positions_path\u001b[0m\u001b[0;34m,\u001b[0m \u001b[0mcache_dir\u001b[0m\u001b[0;34m)\u001b[0m\u001b[0;34m\u001b[0m\u001b[0m\n\u001b[1;32m     73\u001b[0m   \u001b[0mcors_station_positions_file\u001b[0m \u001b[0;34m=\u001b[0m \u001b[0mopen\u001b[0m\u001b[0;34m(\u001b[0m\u001b[0mcors_station_positions_path\u001b[0m\u001b[0;34m,\u001b[0m \u001b[0;34m'r'\u001b[0m\u001b[0;34m)\u001b[0m\u001b[0;34m\u001b[0m\u001b[0m\n\u001b[0;32m---> 74\u001b[0;31m   \u001b[0mcors_station_positions_dict\u001b[0m \u001b[0;34m=\u001b[0m \u001b[0mnp\u001b[0m\u001b[0;34m.\u001b[0m\u001b[0mload\u001b[0m\u001b[0;34m(\u001b[0m\u001b[0mcors_station_positions_file\u001b[0m\u001b[0;34m)\u001b[0m\u001b[0;34m.\u001b[0m\u001b[0mitem\u001b[0m\u001b[0;34m(\u001b[0m\u001b[0;34m)\u001b[0m\u001b[0;34m\u001b[0m\u001b[0m\n\u001b[0m\u001b[1;32m     75\u001b[0m   \u001b[0mcors_station_positions_file\u001b[0m\u001b[0;34m.\u001b[0m\u001b[0mclose\u001b[0m\u001b[0;34m(\u001b[0m\u001b[0;34m)\u001b[0m\u001b[0;34m\u001b[0m\u001b[0m\n\u001b[1;32m     76\u001b[0m   \u001b[0mepoch\u001b[0m\u001b[0;34m,\u001b[0m \u001b[0mpos\u001b[0m\u001b[0;34m,\u001b[0m \u001b[0mvel\u001b[0m \u001b[0;34m=\u001b[0m \u001b[0mcors_station_positions_dict\u001b[0m\u001b[0;34m[\u001b[0m\u001b[0mstation_id\u001b[0m\u001b[0;34m]\u001b[0m\u001b[0;34m\u001b[0m\u001b[0m\n",
      "\u001b[0;32m/home/batman/one/laika/venv/lib/python2.7/site-packages/numpy-1.14.5-py2.7-linux-x86_64.egg/numpy/lib/npyio.pyc\u001b[0m in \u001b[0;36mload\u001b[0;34m(file, mmap_mode, allow_pickle, fix_imports, encoding)\u001b[0m\n\u001b[1;32m    419\u001b[0m             \u001b[0;32melse\u001b[0m\u001b[0;34m:\u001b[0m\u001b[0;34m\u001b[0m\u001b[0m\n\u001b[1;32m    420\u001b[0m                 return format.read_array(fid, allow_pickle=allow_pickle,\n\u001b[0;32m--> 421\u001b[0;31m                                          pickle_kwargs=pickle_kwargs)\n\u001b[0m\u001b[1;32m    422\u001b[0m         \u001b[0;32melse\u001b[0m\u001b[0;34m:\u001b[0m\u001b[0;34m\u001b[0m\u001b[0m\n\u001b[1;32m    423\u001b[0m             \u001b[0;31m# Try a pickle\u001b[0m\u001b[0;34m\u001b[0m\u001b[0;34m\u001b[0m\u001b[0m\n",
      "\u001b[0;32m/home/batman/one/laika/venv/lib/python2.7/site-packages/numpy-1.14.5-py2.7-linux-x86_64.egg/numpy/lib/format.pyc\u001b[0m in \u001b[0;36mread_array\u001b[0;34m(fp, allow_pickle, pickle_kwargs)\u001b[0m\n\u001b[1;32m    648\u001b[0m             \u001b[0mpickle_kwargs\u001b[0m \u001b[0;34m=\u001b[0m \u001b[0;34m{\u001b[0m\u001b[0;34m}\u001b[0m\u001b[0;34m\u001b[0m\u001b[0m\n\u001b[1;32m    649\u001b[0m         \u001b[0;32mtry\u001b[0m\u001b[0;34m:\u001b[0m\u001b[0;34m\u001b[0m\u001b[0m\n\u001b[0;32m--> 650\u001b[0;31m             \u001b[0marray\u001b[0m \u001b[0;34m=\u001b[0m \u001b[0mpickle\u001b[0m\u001b[0;34m.\u001b[0m\u001b[0mload\u001b[0m\u001b[0;34m(\u001b[0m\u001b[0mfp\u001b[0m\u001b[0;34m,\u001b[0m \u001b[0;34m**\u001b[0m\u001b[0mpickle_kwargs\u001b[0m\u001b[0;34m)\u001b[0m\u001b[0;34m\u001b[0m\u001b[0m\n\u001b[0m\u001b[1;32m    651\u001b[0m         \u001b[0;32mexcept\u001b[0m \u001b[0mUnicodeError\u001b[0m \u001b[0;32mas\u001b[0m \u001b[0merr\u001b[0m\u001b[0;34m:\u001b[0m\u001b[0;34m\u001b[0m\u001b[0m\n\u001b[1;32m    652\u001b[0m             \u001b[0;32mif\u001b[0m \u001b[0msys\u001b[0m\u001b[0;34m.\u001b[0m\u001b[0mversion_info\u001b[0m\u001b[0;34m[\u001b[0m\u001b[0;36m0\u001b[0m\u001b[0;34m]\u001b[0m \u001b[0;34m>=\u001b[0m \u001b[0;36m3\u001b[0m\u001b[0;34m:\u001b[0m\u001b[0;34m\u001b[0m\u001b[0m\n",
      "\u001b[0;31mImportError\u001b[0m: No module named gnss.gps_time"
     ]
    }
   ],
   "source": [
    "from datetime import datetime\n",
    "from laika.gps_time import GPSTime\n",
    "from laika.downloader import download_cors_station\n",
    "from laika.rinex_file import RINEXFile\n",
    "from laika.dgps import get_station_position\n",
    "\n",
    "\n",
    "# We can use helper functions in laika to download  the station's observation\n",
    "# data for a certain time and its known exact position.\n",
    "station_name = 'slac'\n",
    "time = GPSTime.from_datetime(datetime(2018,1,7))\n",
    "print dog.cache_dir\n",
    "slac_rinex_obs_file = download_cors_station(time, station_name, dog.cache_dir)\n",
    "obs_data = RINEXFile(slac_rinex_obs_file)\n",
    "slac_exact_postition = get_station_position('slac')"
   ]
  },
  {
   "cell_type": "code",
   "execution_count": null,
   "metadata": {
    "scrolled": true
   },
   "outputs": [],
   "source": [
    "import laika.gnss.raw_gnss as raw\n",
    "# Now we have the observation data for the station we can process \n",
    "# it with the astrodog.\n",
    "\n",
    "rinex_meas_grouped = raw.read_rinex_obs(obs_data)\n",
    "rinex_corr_grouped = []\n",
    "for meas in tqdm(rinex_meas_grouped):\n",
    "  proc = raw.process_measurements(meas, dog=dog)\n",
    "  corr = raw.correct_measurements(meas, slac_exact_postition, dog=dog)\n",
    "  rinex_corr_grouped.append(corr)"
   ]
  },
  {
   "cell_type": "code",
   "execution_count": null,
   "metadata": {
    "scrolled": true
   },
   "outputs": [],
   "source": [
    "# Using laika's WLS solver we can now calculate position\n",
    "# fixes for every epoch (every 30s) over 24h.\n",
    "\n",
    "ests = []\n",
    "for corr in tqdm(rinex_corr_grouped[:]):\n",
    "  fix, _ = raw.calc_pos_fix(corr)\n",
    "  ests.append(fix)\n",
    "ests = array(ests)"
   ]
  },
  {
   "cell_type": "code",
   "execution_count": null,
   "metadata": {},
   "outputs": [],
   "source": [
    "# Now we plot the error of every fix in NED (North, East, Down)\n",
    "# coordinates, we see clearly that the Down axis is noisier, \n",
    "# this is to be expected as the VDOP is generally much larger\n",
    "# than the HDOP.\n",
    "\n",
    "conv = LocalCoord.from_ecef(slac_exact_postition)\n",
    "errors_ned = conv.ecef2ned(ests[:,:3])\n",
    "figsize(10,10)\n",
    "plot(errors_ned[:,2], label='Down');\n",
    "plot(errors_ned[:,1], label='East');\n",
    "plot(errors_ned[:,0], label='North');\n",
    "title('Error of estation estimated by C1C signal', fontsize=25);\n",
    "ylim(-10,10);\n",
    "xlabel('Epoch (#)', fontsize=15);\n",
    "ylabel('Error (m)', fontsize=15);\n",
    "legend(fontsize=15);\n",
    "\n",
    "\n",
    "# The error of the median position compared to the true\n",
    "# position is ~0.5m with this technique. This is about what\n",
    "# we would expect. Without using carrier phase measurements\n",
    "# we do not expect better results.\n",
    "print 'The error of the median position is NED:'\n",
    "print np.median(errors_ned, axis=0)"
   ]
  },
  {
   "cell_type": "code",
   "execution_count": null,
   "metadata": {},
   "outputs": [],
   "source": [
    "# Out of curiousity we repeat the previous experiment, but we use\n",
    "# the C2P signal. Just to make sure we get similar results. And while\n",
    "# we're at it lets compare the residuals of GLONASS and GPS.\n",
    "from laika.gnss.helpers import get_constellation\n",
    "\n",
    "\n",
    "ests, errs, residuals_gps, residuals_glonass = [], [], [], []\n",
    "for corr in tqdm(rinex_corr_grouped[:]):\n",
    "  sol = raw.calc_pos_fix(corr, signal='C2P')\n",
    "  residuals_gps.append(raw.pr_residual([c for c in corr if get_constellation(c.prn) == 'GPS'], signal='C2P')(np.append(slac_exact_postition, sol[0][3:])))\n",
    "  residuals_glonass.append(raw.pr_residual([c for c in corr if get_constellation(c.prn) == 'GLONASS'], signal='C2P')(np.append(slac_exact_postition, sol[0][3:])))\n",
    "  ests.append(sol[0])\n",
    "ests = array(ests)"
   ]
  },
  {
   "cell_type": "code",
   "execution_count": null,
   "metadata": {},
   "outputs": [],
   "source": [
    "# We plot the error again and see similar results,\n",
    "# this gives us confidence that the different signals\n",
    "# are being processed correctly.\n",
    "\n",
    "conv = LocalCoord.from_ecef(slac_exact_postition)\n",
    "errors_ned = conv.ecef2ned(ests[:,:3])\n",
    "figsize(10,10)\n",
    "plot(errors_ned[:,2], label='Down');\n",
    "plot(errors_ned[:,1], label='East');\n",
    "plot(errors_ned[:,0], label='North');\n",
    "title('Error of estation estimated by C2P signal', fontsize=25);\n",
    "ylim(-10,10);\n",
    "ylabel('Epoch (#)',fontsize=15);\n",
    "xlabel('Error (m)',fontsize=15);\n",
    "legend(fontsize=15);\n",
    "\n",
    "print 'The error of the median position is NED:'\n",
    "print np.median(errors_ned, axis=0)"
   ]
  },
  {
   "cell_type": "code",
   "execution_count": null,
   "metadata": {},
   "outputs": [],
   "source": [
    "# When we look at at the residual distributions of GLONASS\n",
    "# and GPS here we see the distributions are very similar,\n",
    "# showing that that both constellations provide correct\n",
    "# and good signal. Intrestingly there is a non-trival negative\n",
    "# bias on both constellations. This bias must be attriubted to\n",
    "# something that is not sattelite or constellation specific since\n",
    "# it is equally present on GLONASS and GPS. It is probably caused\n",
    "# by modelling errors in the ionosphere/troposhere or multipath.\n",
    "\n",
    "sns.distplot(np.concatenate(residuals_gps)[np.isfinite(np.concatenate(residuals_gps))], label='GPS');\n",
    "sns.distplot(np.concatenate(residuals_glonass)[np.isfinite(np.concatenate(residuals_glonass))],label='GLONASS');\n",
    "xlim(-7, 7);\n",
    "xlabel('Pseudorange residual (m)',fontsize=15);\n",
    "ylabel('Probability',fontsize=15);\n",
    "title('Distribution of GLONASS vs GPS residual on C2P', fontsize=25);\n",
    "legend(fontsize=15);"
   ]
  }
 ],
 "metadata": {
  "kernelspec": {
   "display_name": "Python2 (venv)",
   "language": "python",
   "name": "testenv"
  },
  "language_info": {
   "codemirror_mode": {
    "name": "ipython",
    "version": 2
   },
   "file_extension": ".py",
   "mimetype": "text/x-python",
   "name": "python",
   "nbconvert_exporter": "python",
   "pygments_lexer": "ipython2",
   "version": "2.7.12"
  }
 },
 "nbformat": 4,
 "nbformat_minor": 2
}
