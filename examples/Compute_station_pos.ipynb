{
 "cells": [
  {
   "cell_type": "code",
   "execution_count": 1,
   "metadata": {
    "pycharm": {
     "is_executing": false
    }
   },
   "outputs": [
    {
     "name": "stdout",
     "text": [
      "Populating the interactive namespace from numpy and matplotlib\n"
     ],
     "output_type": "stream"
    }
   ],
   "source": [
    "%pylab inline\n",
    "import numpy as np\n",
    "import seaborn as sns\n",
    "from tqdm import tqdm\n",
    "from laika.lib.coordinates import LocalCoord, ecef2geodetic\n"
   ]
  },
  {
   "cell_type": "code",
   "execution_count": 2,
   "metadata": {
    "pycharm": {
     "is_executing": false
    }
   },
   "outputs": [],
   "source": [
    "# A practical way to confirm the accuracy of laika's processing\n",
    "# is by downloading some observation data from a CORS station\n",
    "# and confirming our position estimate to the known position\n",
    "# of the station.\n",
    "\n",
    "\n",
    "# We begin by initializing an AstroDog\n",
    "from laika import AstroDog\n",
    "dog = AstroDog()"
   ]
  },
  {
   "cell_type": "code",
   "execution_count": 3,
   "metadata": {
    "pycharm": {
     "is_executing": false
    }
   },
   "outputs": [
    {
     "data": {
      "text/plain": "'/tmp/gnss/cors_coord/cors_station_positions'"
     },
     "metadata": {},
     "output_type": "execute_result",
     "execution_count": 3
    }
   ],
   "source": [
    "# Building this cache takes forever just copy it from repo\n",
    "\n",
    "from shutil import copyfile\n",
    "import os\n",
    "cache_directory = '/tmp/gnss/cors_coord/'\n",
    "try:\n",
    "  os.mkdir('/tmp/gnss/')\n",
    "except:\n",
    "  pass\n",
    "try:\n",
    "  os.mkdir(cache_directory)\n",
    "except:\n",
    "  pass\n",
    "copyfile('cors_station_positions', cache_directory + 'cors_station_positions')"
   ]
  },
  {
   "cell_type": "code",
   "execution_count": 4,
   "metadata": {
    "pycharm": {
     "is_executing": false
    }
   },
   "outputs": [
    {
     "name": "stdout",
     "text": [
      "/tmp/gnss/cors_obs/2017/007/slac/slac0070.17o\n",
      "File not found in directory.\n"
     ],
     "output_type": "stream"
    },
    {
     "traceback": [
      "An exception has occurred, use %tb to see the full traceback.\n",
      "\u001b[1;31mSystemExit\u001b[0m\u001b[1;31m:\u001b[0m -1\n"
     ],
     "ename": "SystemExit",
     "evalue": "-1",
     "output_type": "error"
    },
    {
     "name": "stderr",
     "text": [
      "C:\\Users\\LoganMaynard\\Anaconda3\\lib\\site-packages\\IPython\\core\\interactiveshell.py:3334: UserWarning: To exit: use 'exit', 'quit', or Ctrl-D.\n",
      "  warn(\"To exit: use 'exit', 'quit', or Ctrl-D.\", stacklevel=1)\n"
     ],
     "output_type": "stream"
    }
   ],
   "source": [
    "from datetime import datetime\n",
    "from laika.gps_time import GPSTime\n",
    "from laika.downloader import download_cors_station\n",
    "from laika.rinex_file import RINEXFile\n",
    "from laika.dgps import get_station_position\n",
    "\n",
    "\n",
    "# We can use helper functions in laika to download  the station's observation\n",
    "# data for a certain time and its known exact position.\n",
    "station_name = 'slac'\n",
    "# Note: Files older than approximately 1 year generally use Hatanaka compression\n",
    "# This will result in a download failure\n",
    "time = GPSTime.from_datetime(datetime(2017,1,7))\n",
    "slac_rinex_obs_file = download_cors_station(time, station_name, dog.cache_dir)\n",
    "\n",
    "# obs_data = RINEXFile(slac_rinex_obs_file)\n",
    "file_directory = \"/tmp/gnss/cors_obs/2017/017/slac/slac0170.17o\"\n",
    "print(slac_rinex_obs_file)\n",
    "obs_data = RINEXFile(file_directory)\n",
    "slac_exact_postition = get_station_position('slac')"
   ]
  },
  {
   "cell_type": "code",
   "execution_count": null,
   "metadata": {
    "pycharm": {
     "is_executing": false
    },
    "scrolled": true
   },
   "outputs": [],
   "source": [
    "import laika.raw_gnss as raw\n",
    "# Now we have the observation data for the station we can process \n",
    "# it with the astrodog.\n",
    "\n",
    "rinex_meas_grouped = raw.read_rinex_obs(obs_data)\n",
    "rinex_corr_grouped = []\n",
    "for meas in tqdm(rinex_meas_grouped):\n",
    "  proc = raw.process_measurements(meas, dog=dog)\n",
    "  corr = raw.correct_measurements(meas, slac_exact_postition, dog=dog)\n",
    "  rinex_corr_grouped.append(corr)"
   ]
  },
  {
   "cell_type": "code",
   "execution_count": null,
   "metadata": {
    "pycharm": {
     "is_executing": false
    },
    "scrolled": true
   },
   "outputs": [],
   "source": [
    "# Using laika's WLS solver we can now calculate position\n",
    "# fixes for every epoch (every 30s) over 24h.\n",
    "\n",
    "ests = []\n",
    "for corr in tqdm(rinex_corr_grouped[:]):\n",
    "  fix, _ = raw.calc_pos_fix(corr)\n",
    "  ests.append(fix)\n",
    "ests = array(ests)"
   ]
  },
  {
   "cell_type": "code",
   "execution_count": null,
   "metadata": {
    "pycharm": {
     "is_executing": false
    }
   },
   "outputs": [],
   "source": [
    "# Now we plot the error of every fix in NED (North, East, Down)\n",
    "# coordinates, we see clearly that the Down axis is noisier, \n",
    "# this is to be expected as the VDOP is generally much larger\n",
    "# than the HDOP.\n",
    "\n",
    "conv = LocalCoord.from_ecef(slac_exact_postition)\n",
    "errors_ned = conv.ecef2ned(ests[:,:3])\n",
    "figsize(10,10)\n",
    "plot(errors_ned[:,2], label='Down');\n",
    "plot(errors_ned[:,1], label='East');\n",
    "plot(errors_ned[:,0], label='North');\n",
    "title('Error of estation estimated by C1C signal', fontsize=25);\n",
    "ylim(-10,10);\n",
    "xlabel('Epoch (#)', fontsize=15);\n",
    "ylabel('Error (m)', fontsize=15);\n",
    "legend(fontsize=15);\n",
    "\n",
    "\n",
    "# The error of the median position compared to the true\n",
    "# position is ~0.5m with this technique. This is about what\n",
    "# we would expect. Without using carrier phase measurements\n",
    "# we do not expect better results.\n",
    "print('The error of the median position is NED:')\n",
    "print(np.median(errors_ned, axis=0))"
   ]
  },
  {
   "cell_type": "code",
   "execution_count": null,
   "metadata": {
    "pycharm": {
     "is_executing": false
    }
   },
   "outputs": [],
   "source": [
    "# Out of curiousity we repeat the previous experiment, but we use\n",
    "# the C2P signal. Just to make sure we get similar results. And while\n",
    "# we're at it lets compare the residuals of GLONASS and GPS.\n",
    "from laika.helpers import get_constellation\n",
    "\n",
    "\n",
    "ests, errs, residuals_gps, residuals_glonass = [], [], [], []\n",
    "for corr in tqdm(rinex_corr_grouped[:]):\n",
    "  sol = raw.calc_pos_fix(corr, signal='C2P')\n",
    "  residuals_gps.append(raw.pr_residual([c for c in corr if get_constellation(c.prn) == 'GPS'], signal='C2P')(np.append(slac_exact_postition, sol[0][3:])))\n",
    "  residuals_glonass.append(raw.pr_residual([c for c in corr if get_constellation(c.prn) == 'GLONASS'], signal='C2P')(np.append(slac_exact_postition, sol[0][3:])))\n",
    "  ests.append(sol[0])\n",
    "ests = array(ests)"
   ]
  },
  {
   "cell_type": "code",
   "execution_count": null,
   "metadata": {
    "pycharm": {
     "is_executing": false
    }
   },
   "outputs": [],
   "source": [
    "# We plot the error again and see similar results,\n",
    "# this gives us confidence that the different signals\n",
    "# are being processed correctly.\n",
    "\n",
    "conv = LocalCoord.from_ecef(slac_exact_postition)\n",
    "errors_ned = conv.ecef2ned(ests[:,:3])\n",
    "figsize(10,10)\n",
    "plot(errors_ned[:,2], label='Down');\n",
    "plot(errors_ned[:,1], label='East');\n",
    "plot(errors_ned[:,0], label='North');\n",
    "title('Error of estation estimated by C2P signal', fontsize=25);\n",
    "ylim(-10,10);\n",
    "ylabel('Epoch (#)',fontsize=15);\n",
    "xlabel('Error (m)',fontsize=15);\n",
    "legend(fontsize=15);\n",
    "\n",
    "print('The error of the median position is NED:')\n",
    "print(np.median(errors_ned, axis=0))"
   ]
  },
  {
   "cell_type": "code",
   "execution_count": null,
   "metadata": {
    "pycharm": {
     "is_executing": false
    }
   },
   "outputs": [],
   "source": [
    "# When we look at at the residual distributions of GLONASS\n",
    "# and GPS here we see the distributions are very similar,\n",
    "# showing that that both constellations provide correct\n",
    "# and good signal. Intrestingly there is a non-trival negative\n",
    "# bias on both constellations. This bias must be attriubted to\n",
    "# something that is not sattelite or constellation specific since\n",
    "# it is equally present on GLONASS and GPS. It is probably caused\n",
    "# by modelling errors in the ionosphere/troposhere or multipath.\n",
    "\n",
    "sns.distplot(np.concatenate(residuals_gps)[np.isfinite(np.concatenate(residuals_gps))], label='GPS');\n",
    "sns.distplot(np.concatenate(residuals_glonass)[np.isfinite(np.concatenate(residuals_glonass))],label='GLONASS');\n",
    "xlim(-7, 7);\n",
    "xlabel('Pseudorange residual (m)',fontsize=15);\n",
    "ylabel('Probability',fontsize=15);\n",
    "title('Distribution of GLONASS vs GPS residual on C2P', fontsize=25);\n",
    "legend(fontsize=15);"
   ]
  }
 ],
 "metadata": {
  "kernelspec": {
   "display_name": "Python 3",
   "language": "python",
   "name": "python3"
  },
  "language_info": {
   "codemirror_mode": {
    "name": "ipython",
    "version": 3
   },
   "file_extension": ".py",
   "mimetype": "text/x-python",
   "name": "python",
   "nbconvert_exporter": "python",
   "pygments_lexer": "ipython3",
   "version": "3.7.4"
  },
  "pycharm": {
   "stem_cell": {
    "cell_type": "raw",
    "source": [],
    "metadata": {
     "collapsed": false
    }
   }
  }
 },
 "nbformat": 4,
 "nbformat_minor": 2
}